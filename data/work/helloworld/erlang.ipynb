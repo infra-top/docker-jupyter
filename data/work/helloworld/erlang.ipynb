{
 "cells": [
  {
   "cell_type": "code",
   "execution_count": 1,
   "metadata": {},
   "outputs": [
    {
     "data": {
      "text/plain": [
       "{module,hello}\n"
      ]
     },
     "execution_count": 1,
     "metadata": {},
     "output_type": "execute_result"
    }
   ],
   "source": [
    "-module(hello).\n",
    "-export([hello_world/0]).\n",
    "\n",
    "hello_world() -> io:fwrite(\"hello, world\\n\")."
   ]
  },
  {
   "cell_type": "code",
   "execution_count": 2,
   "metadata": {},
   "outputs": [
    {
     "name": "stdout",
     "output_type": "stream",
     "text": [
      "hello, world\n"
     ]
    },
    {
     "data": {
      "text/plain": [
       "ok\n"
      ]
     },
     "execution_count": 2,
     "metadata": {},
     "output_type": "execute_result"
    }
   ],
   "source": [
    "hello:hello_world()."
   ]
  },
  {
   "cell_type": "code",
   "execution_count": null,
   "metadata": {},
   "outputs": [],
   "source": []
  }
 ],
 "metadata": {
  "kernelspec": {
   "display_name": "erlang (erlang)",
   "language": "erlang",
   "name": "erlang"
  },
  "language_info": {
   "file_extension": ".erl",
   "name": "erlang",
   "version": "20.2.2\n"
  }
 },
 "nbformat": 4,
 "nbformat_minor": 2
}
